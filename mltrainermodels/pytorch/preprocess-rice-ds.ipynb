{
 "cells": [
  {
   "cell_type": "code",
   "execution_count": null,
   "id": "b35f22e5",
   "metadata": {
    "pycharm": {
     "name": "#%%\n"
    }
   },
   "outputs": [],
   "source": [
    "import sys\n",
    "\n",
    "import torch\n",
    "import torch.nn as nn\n",
    "import torchvision\n",
    "from torch.utils.data import Dataset\n",
    "from torchvision import datasets, models,transforms as T\n",
    "import matplotlib.pyplot as plt\n",
    "import numpy as np\n",
    "from torchvision.transforms import ToTensor, Lambda\n",
    "from torch.utils.data import DataLoader\n",
    "from datetime import datetime\n",
    "import os\n",
    "from torchvision.utils import save_image\n",
    "\n",
    "print(sys.path)\n",
    "\n",
    "from torchvision import datasets, models,transforms as T\n",
    "from torch.utils.data import DataLoader\n",
    "import torch\n",
    "\n",
    "image_size = 64\n",
    "\n",
    "origibal_base_path = \"/home/ec2-user/SageMaker/data/rice-diseases-image-dataset/RiceDiseaseDataset\"\n",
    "transformed_base_path = \"/home/ec2-user/SageMaker/data/64/rice-diseases-image-dataset/Transformed-RiceDiseaseDataset\"\n",
    "transformed_train_path = os.path.join(transformed_base_path, \"train\")\n",
    "transformed_test_path = os.path.join(transformed_base_path, \"validation\")\n",
    "\n",
    "os.makedirs(transformed_train_path, exist_ok = True)\n",
    "os.makedirs(transformed_test_path, exist_ok = True)\n",
    "\n",
    "num_workers=1\n",
    "batch_size=30\n",
    "\n",
    "transform = T.Compose(\n",
    "    [\n",
    "        T.Resize(image_size),\n",
    "        T.CenterCrop(image_size),\n",
    "        T.ToTensor(),\n",
    "        T.Normalize([0.485, 0.456, 0.406], [0.229, 0.224, 0.225])\n",
    "    ]\n",
    ")\n",
    "\n",
    "image_transforms = torch.nn.Sequential(\n",
    "#     T.Resize(28),\n",
    ")\n",
    "\n",
    "def get_training_data_loder(batch_size):\n",
    "    training_data = datasets.ImageFolder(origibal_base_path + '/train', transform=transform)\n",
    "    # training_data = datasets.MNIST(\n",
    "    #     root=\"data\",\n",
    "    #     train=True,\n",
    "    #     download=True,\n",
    "    #     transform=transform\n",
    "    # )\n",
    "    kwargs = {'num_workers': num_workers, 'pin_memory': True}\n",
    "    train_dataloader = DataLoader(training_data, batch_size=batch_size, shuffle=True, **kwargs)\n",
    "    print(train_dataloader)\n",
    "    # ds\n",
    "    return train_dataloader\n",
    "\n",
    "def get_test_data_loader(batch_size):\n",
    "    training_data = datasets.ImageFolder(origibal_base_path + '/validation', transform=transform)\n",
    "    # test_data = datasets.MNIST(\n",
    "    #     root=\"data\",\n",
    "    #     train=False,\n",
    "    #     download=True,\n",
    "    #     transform=transform\n",
    "    # )\n",
    "    test_dataloader = DataLoader(training_data, batch_size=batch_size, shuffle=True, num_workers=num_workers)\n",
    "    return test_dataloader\n",
    "\n",
    "\n",
    "train_dataloader = get_training_data_loder(batch_size)\n",
    "test_dataloader = get_test_data_loader(batch_size)\n",
    "\n"
   ]
  },
  {
   "cell_type": "code",
   "execution_count": null,
   "id": "59baee31",
   "metadata": {
    "pycharm": {
     "name": "#%%\n"
    }
   },
   "outputs": [],
   "source": [
    "classes = train_dataloader.dataset.classes\n",
    "classes"
   ]
  },
  {
   "cell_type": "code",
   "execution_count": null,
   "id": "da8eee9a",
   "metadata": {
    "pycharm": {
     "name": "#%%\n"
    }
   },
   "outputs": [],
   "source": [
    "file_index=0\n",
    "for batch, (X, y) in enumerate(train_dataloader):\n",
    "    index = 0\n",
    "    print(len(X), y)\n",
    "    for t in X:\n",
    "        path = os.path.join(transformed_train_path, classes[y[index]])\n",
    "        os.makedirs(path, exist_ok = True)\n",
    "        #print(path)\n",
    "        save_image(t, os.path.join(path, f\"{file_index}.jpg\"))\n",
    "        index = index + 1\n",
    "        file_index = file_index + 1\n",
    "        \n",
    "    print(f\"FILE INDEX>>>{file_index}\")"
   ]
  },
  {
   "cell_type": "code",
   "execution_count": null,
   "id": "9727e12a",
   "metadata": {
    "pycharm": {
     "name": "#%%\n"
    }
   },
   "outputs": [],
   "source": [
    "file_index=0\n",
    "for batch, (X, y) in enumerate(test_dataloader):\n",
    "    index = 0\n",
    "    print(len(X), y)\n",
    "    for t in X:\n",
    "        path = os.path.join(transformed_test_path, classes[y[index]])\n",
    "        os.makedirs(path, exist_ok = True)\n",
    "        #print(path)\n",
    "        save_image(t, os.path.join(path, f\"{file_index}.jpg\"))\n",
    "        index = index + 1\n",
    "        file_index = file_index + 1\n",
    "        \n",
    "    print(f\"FILE INDEX>>>{file_index}\")"
   ]
  },
  {
   "cell_type": "code",
   "execution_count": null,
   "id": "88d74222",
   "metadata": {
    "pycharm": {
     "name": "#%%\n"
    }
   },
   "outputs": [],
   "source": []
  }
 ],
 "metadata": {
  "kernelspec": {
   "display_name": "conda_pytorch_p36",
   "language": "python",
   "name": "conda_pytorch_p36"
  },
  "language_info": {
   "codemirror_mode": {
    "name": "ipython",
    "version": 3
   },
   "file_extension": ".py",
   "mimetype": "text/x-python",
   "name": "python",
   "nbconvert_exporter": "python",
   "pygments_lexer": "ipython3",
   "version": "3.6.13"
  }
 },
 "nbformat": 4,
 "nbformat_minor": 5
}