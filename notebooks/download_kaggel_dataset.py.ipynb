{
 "cells": [
  {
   "cell_type": "code",
   "execution_count": 3,
   "metadata": {
    "collapsed": true,
    "pycharm": {
     "name": "#%%\n"
    }
   },
   "outputs": [
    {
     "data": {
      "text/plain": "False"
     },
     "execution_count": 3,
     "metadata": {},
     "output_type": "execute_result"
    }
   ],
   "source": [
    "\n",
    "import os\n",
    "\n",
    "os.environ['KAGGLE_USERNAME'] = 'rajanpanneerselvam'\n",
    "os.environ['KAGGLE_KEY'] = '7cc291cf3304719d6e116a4dfe8aea78'\n",
    "\n",
    "from kaggle.api.kaggle_api_extended import KaggleApi\n",
    "\n",
    "dataset = 'minhhuy2810/rice-diseases-image-dataset'\n",
    "path = '/content/sample_data/rice-diseases-image-dataset'\n",
    "\n",
    "api = KaggleApi()\n",
    "api.authenticate()\n",
    "\n",
    "api.dataset_download_files(dataset, path)\n",
    "\n",
    "#api.dataset_download_file(dataset, 'Iris.csv', path)\n",
    "#api.dataset_download_file(dataset, 'database.sqlite', path)"
   ]
  }
 ],
 "metadata": {
  "kernelspec": {
   "display_name": "Python 3",
   "language": "python",
   "name": "python3"
  },
  "language_info": {
   "codemirror_mode": {
    "name": "ipython",
    "version": 2
   },
   "file_extension": ".py",
   "mimetype": "text/x-python",
   "name": "python",
   "nbconvert_exporter": "python",
   "pygments_lexer": "ipython2",
   "version": "2.7.6"
  }
 },
 "nbformat": 4,
 "nbformat_minor": 0
}