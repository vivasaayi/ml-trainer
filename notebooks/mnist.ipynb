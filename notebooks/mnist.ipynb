{
 "cells": [
  {
   "cell_type": "code",
   "execution_count": 35,
   "metadata": {
    "collapsed": true,
    "pycharm": {
     "name": "#%%\n"
    }
   },
   "outputs": [],
   "source": [
    "from tensorflow import keras\n",
    "import matplotlib.pyplot as plt"
   ]
  },
  {
   "cell_type": "code",
   "execution_count": 36,
   "outputs": [
    {
     "data": {
      "text/plain": "array([[  0,   0,   0,   0,   0,   0,   0,   0,   0,   0,   0,   0,   0,\n          0,   0,   0,   0,   0,   0,   0,   0,   0,   0,   0,   0,   0,\n          0,   0],\n       [  0,   0,   0,   0,   0,   0,   0,   0,   0,   0,   0,   0,   0,\n          0,   0,   0,   0,   0,   0,   0,   0,   0,   0,   0,   0,   0,\n          0,   0],\n       [  0,   0,   0,   0,   0,   0,   0,   0,   0,   0,   0,   0,   0,\n          0,   0,   0,   0,   0,   0,   0,   0,   0,   0,   0,   0,   0,\n          0,   0],\n       [  0,   0,   0,   0,   0,   0,   0,   0,   0,   0,   0,   0,   0,\n          0,   0,   0,   0,   0,   0,   0,   0,   0,   0,   0,   0,   0,\n          0,   0],\n       [  0,   0,   0,   0,   0,   0,   0,   0,   0,   0,   0,   0,   0,\n          0,   0,   0,   0,   0,   0,   0,   0,   0,   0,   0,   0,   0,\n          0,   0],\n       [  0,   0,   0,   0,   0,   0,   0,   0,   0,   0,   0,   0,   3,\n         18,  18,  18, 126, 136, 175,  26, 166, 255, 247, 127,   0,   0,\n          0,   0],\n       [  0,   0,   0,   0,   0,   0,   0,   0,  30,  36,  94, 154, 170,\n        253, 253, 253, 253, 253, 225, 172, 253, 242, 195,  64,   0,   0,\n          0,   0],\n       [  0,   0,   0,   0,   0,   0,   0,  49, 238, 253, 253, 253, 253,\n        253, 253, 253, 253, 251,  93,  82,  82,  56,  39,   0,   0,   0,\n          0,   0],\n       [  0,   0,   0,   0,   0,   0,   0,  18, 219, 253, 253, 253, 253,\n        253, 198, 182, 247, 241,   0,   0,   0,   0,   0,   0,   0,   0,\n          0,   0],\n       [  0,   0,   0,   0,   0,   0,   0,   0,  80, 156, 107, 253, 253,\n        205,  11,   0,  43, 154,   0,   0,   0,   0,   0,   0,   0,   0,\n          0,   0],\n       [  0,   0,   0,   0,   0,   0,   0,   0,   0,  14,   1, 154, 253,\n         90,   0,   0,   0,   0,   0,   0,   0,   0,   0,   0,   0,   0,\n          0,   0],\n       [  0,   0,   0,   0,   0,   0,   0,   0,   0,   0,   0, 139, 253,\n        190,   2,   0,   0,   0,   0,   0,   0,   0,   0,   0,   0,   0,\n          0,   0],\n       [  0,   0,   0,   0,   0,   0,   0,   0,   0,   0,   0,  11, 190,\n        253,  70,   0,   0,   0,   0,   0,   0,   0,   0,   0,   0,   0,\n          0,   0],\n       [  0,   0,   0,   0,   0,   0,   0,   0,   0,   0,   0,   0,  35,\n        241, 225, 160, 108,   1,   0,   0,   0,   0,   0,   0,   0,   0,\n          0,   0],\n       [  0,   0,   0,   0,   0,   0,   0,   0,   0,   0,   0,   0,   0,\n         81, 240, 253, 253, 119,  25,   0,   0,   0,   0,   0,   0,   0,\n          0,   0],\n       [  0,   0,   0,   0,   0,   0,   0,   0,   0,   0,   0,   0,   0,\n          0,  45, 186, 253, 253, 150,  27,   0,   0,   0,   0,   0,   0,\n          0,   0],\n       [  0,   0,   0,   0,   0,   0,   0,   0,   0,   0,   0,   0,   0,\n          0,   0,  16,  93, 252, 253, 187,   0,   0,   0,   0,   0,   0,\n          0,   0],\n       [  0,   0,   0,   0,   0,   0,   0,   0,   0,   0,   0,   0,   0,\n          0,   0,   0,   0, 249, 253, 249,  64,   0,   0,   0,   0,   0,\n          0,   0],\n       [  0,   0,   0,   0,   0,   0,   0,   0,   0,   0,   0,   0,   0,\n          0,  46, 130, 183, 253, 253, 207,   2,   0,   0,   0,   0,   0,\n          0,   0],\n       [  0,   0,   0,   0,   0,   0,   0,   0,   0,   0,   0,   0,  39,\n        148, 229, 253, 253, 253, 250, 182,   0,   0,   0,   0,   0,   0,\n          0,   0],\n       [  0,   0,   0,   0,   0,   0,   0,   0,   0,   0,  24, 114, 221,\n        253, 253, 253, 253, 201,  78,   0,   0,   0,   0,   0,   0,   0,\n          0,   0],\n       [  0,   0,   0,   0,   0,   0,   0,   0,  23,  66, 213, 253, 253,\n        253, 253, 198,  81,   2,   0,   0,   0,   0,   0,   0,   0,   0,\n          0,   0],\n       [  0,   0,   0,   0,   0,   0,  18, 171, 219, 253, 253, 253, 253,\n        195,  80,   9,   0,   0,   0,   0,   0,   0,   0,   0,   0,   0,\n          0,   0],\n       [  0,   0,   0,   0,  55, 172, 226, 253, 253, 253, 253, 244, 133,\n         11,   0,   0,   0,   0,   0,   0,   0,   0,   0,   0,   0,   0,\n          0,   0],\n       [  0,   0,   0,   0, 136, 253, 253, 253, 212, 135, 132,  16,   0,\n          0,   0,   0,   0,   0,   0,   0,   0,   0,   0,   0,   0,   0,\n          0,   0],\n       [  0,   0,   0,   0,   0,   0,   0,   0,   0,   0,   0,   0,   0,\n          0,   0,   0,   0,   0,   0,   0,   0,   0,   0,   0,   0,   0,\n          0,   0],\n       [  0,   0,   0,   0,   0,   0,   0,   0,   0,   0,   0,   0,   0,\n          0,   0,   0,   0,   0,   0,   0,   0,   0,   0,   0,   0,   0,\n          0,   0],\n       [  0,   0,   0,   0,   0,   0,   0,   0,   0,   0,   0,   0,   0,\n          0,   0,   0,   0,   0,   0,   0,   0,   0,   0,   0,   0,   0,\n          0,   0]], dtype=uint8)"
     },
     "execution_count": 36,
     "metadata": {},
     "output_type": "execute_result"
    }
   ],
   "source": [
    "(x_train, y_train), (x_test, y_test) = keras.datasets.mnist.load_data()\n",
    "first_image = x_train[0]\n",
    "first_image\n"
   ],
   "metadata": {
    "collapsed": false,
    "pycharm": {
     "name": "#%%\n"
    }
   }
  },
  {
   "cell_type": "code",
   "execution_count": null,
   "outputs": [],
   "source": [
    "(x_train, y_train), (x_test, y_test) = keras.datasets.cifar10.load_data()"
   ],
   "metadata": {
    "collapsed": false,
    "pycharm": {
     "name": "#%%\n"
    }
   }
  },
  {
   "cell_type": "code",
   "execution_count": 21,
   "outputs": [
    {
     "data": {
      "text/plain": "array([[[[ 59,  62,  63],\n         [ 43,  46,  45],\n         [ 50,  48,  43],\n         ...,\n         [158, 132, 108],\n         [152, 125, 102],\n         [148, 124, 103]],\n\n        [[ 16,  20,  20],\n         [  0,   0,   0],\n         [ 18,   8,   0],\n         ...,\n         [123,  88,  55],\n         [119,  83,  50],\n         [122,  87,  57]],\n\n        [[ 25,  24,  21],\n         [ 16,   7,   0],\n         [ 49,  27,   8],\n         ...,\n         [118,  84,  50],\n         [120,  84,  50],\n         [109,  73,  42]],\n\n        ...,\n\n        [[208, 170,  96],\n         [201, 153,  34],\n         [198, 161,  26],\n         ...,\n         [160, 133,  70],\n         [ 56,  31,   7],\n         [ 53,  34,  20]],\n\n        [[180, 139,  96],\n         [173, 123,  42],\n         [186, 144,  30],\n         ...,\n         [184, 148,  94],\n         [ 97,  62,  34],\n         [ 83,  53,  34]],\n\n        [[177, 144, 116],\n         [168, 129,  94],\n         [179, 142,  87],\n         ...,\n         [216, 184, 140],\n         [151, 118,  84],\n         [123,  92,  72]]],\n\n\n       [[[154, 177, 187],\n         [126, 137, 136],\n         [105, 104,  95],\n         ...,\n         [ 91,  95,  71],\n         [ 87,  90,  71],\n         [ 79,  81,  70]],\n\n        [[140, 160, 169],\n         [145, 153, 154],\n         [125, 125, 118],\n         ...,\n         [ 96,  99,  78],\n         [ 77,  80,  62],\n         [ 71,  73,  61]],\n\n        [[140, 155, 164],\n         [139, 146, 149],\n         [115, 115, 112],\n         ...,\n         [ 79,  82,  64],\n         [ 68,  70,  55],\n         [ 67,  69,  55]],\n\n        ...,\n\n        [[175, 167, 166],\n         [156, 154, 160],\n         [154, 160, 170],\n         ...,\n         [ 42,  34,  36],\n         [ 61,  53,  57],\n         [ 93,  83,  91]],\n\n        [[165, 154, 128],\n         [156, 152, 130],\n         [159, 161, 142],\n         ...,\n         [103,  93,  96],\n         [123, 114, 120],\n         [131, 121, 131]],\n\n        [[163, 148, 120],\n         [158, 148, 122],\n         [163, 156, 133],\n         ...,\n         [143, 133, 139],\n         [143, 134, 142],\n         [143, 133, 144]]],\n\n\n       [[[255, 255, 255],\n         [253, 253, 253],\n         [253, 253, 253],\n         ...,\n         [253, 253, 253],\n         [253, 253, 253],\n         [253, 253, 253]],\n\n        [[255, 255, 255],\n         [255, 255, 255],\n         [255, 255, 255],\n         ...,\n         [255, 255, 255],\n         [255, 255, 255],\n         [255, 255, 255]],\n\n        [[255, 255, 255],\n         [254, 254, 254],\n         [254, 254, 254],\n         ...,\n         [254, 254, 254],\n         [254, 254, 254],\n         [254, 254, 254]],\n\n        ...,\n\n        [[113, 120, 112],\n         [111, 118, 111],\n         [105, 112, 106],\n         ...,\n         [ 72,  81,  80],\n         [ 72,  80,  79],\n         [ 72,  80,  79]],\n\n        [[111, 118, 110],\n         [104, 111, 104],\n         [ 99, 106,  98],\n         ...,\n         [ 68,  75,  73],\n         [ 70,  76,  75],\n         [ 78,  84,  82]],\n\n        [[106, 113, 105],\n         [ 99, 106,  98],\n         [ 95, 102,  94],\n         ...,\n         [ 78,  85,  83],\n         [ 79,  85,  83],\n         [ 80,  86,  84]]],\n\n\n       ...,\n\n\n       [[[ 35, 178, 235],\n         [ 40, 176, 239],\n         [ 42, 176, 241],\n         ...,\n         [ 99, 177, 219],\n         [ 79, 147, 197],\n         [ 89, 148, 189]],\n\n        [[ 57, 182, 234],\n         [ 44, 184, 250],\n         [ 50, 183, 240],\n         ...,\n         [156, 182, 200],\n         [141, 177, 206],\n         [116, 149, 175]],\n\n        [[ 98, 197, 237],\n         [ 64, 189, 252],\n         [ 69, 192, 245],\n         ...,\n         [188, 195, 206],\n         [119, 135, 147],\n         [ 61,  79,  90]],\n\n        ...,\n\n        [[ 73,  79,  77],\n         [ 53,  63,  68],\n         [ 54,  68,  80],\n         ...,\n         [ 17,  40,  64],\n         [ 21,  36,  51],\n         [ 33,  48,  49]],\n\n        [[ 61,  68,  75],\n         [ 55,  70,  86],\n         [ 57,  79, 103],\n         ...,\n         [ 24,  48,  72],\n         [ 17,  35,  53],\n         [  7,  23,  32]],\n\n        [[ 44,  56,  73],\n         [ 46,  66,  88],\n         [ 49,  77, 105],\n         ...,\n         [ 27,  52,  77],\n         [ 21,  43,  66],\n         [ 12,  31,  50]]],\n\n\n       [[[189, 211, 240],\n         [186, 208, 236],\n         [185, 207, 235],\n         ...,\n         [175, 195, 224],\n         [172, 194, 222],\n         [169, 194, 220]],\n\n        [[194, 210, 239],\n         [191, 207, 236],\n         [190, 206, 235],\n         ...,\n         [173, 192, 220],\n         [171, 191, 218],\n         [167, 190, 216]],\n\n        [[208, 219, 244],\n         [205, 216, 240],\n         [204, 215, 239],\n         ...,\n         [175, 191, 217],\n         [172, 190, 216],\n         [169, 191, 215]],\n\n        ...,\n\n        [[207, 199, 181],\n         [203, 195, 175],\n         [203, 196, 173],\n         ...,\n         [135, 132, 127],\n         [162, 158, 150],\n         [168, 163, 151]],\n\n        [[198, 190, 170],\n         [189, 181, 159],\n         [180, 172, 147],\n         ...,\n         [178, 171, 160],\n         [175, 169, 156],\n         [175, 169, 154]],\n\n        [[198, 189, 173],\n         [189, 181, 162],\n         [178, 170, 149],\n         ...,\n         [195, 184, 169],\n         [196, 189, 171],\n         [195, 190, 171]]],\n\n\n       [[[229, 229, 239],\n         [236, 237, 247],\n         [234, 236, 247],\n         ...,\n         [217, 219, 233],\n         [221, 223, 234],\n         [222, 223, 233]],\n\n        [[222, 221, 229],\n         [239, 239, 249],\n         [233, 234, 246],\n         ...,\n         [223, 223, 236],\n         [227, 228, 238],\n         [210, 211, 220]],\n\n        [[213, 206, 211],\n         [234, 232, 239],\n         [231, 233, 244],\n         ...,\n         [220, 220, 232],\n         [220, 219, 232],\n         [202, 203, 215]],\n\n        ...,\n\n        [[150, 143, 135],\n         [140, 135, 127],\n         [132, 127, 120],\n         ...,\n         [224, 222, 218],\n         [230, 228, 225],\n         [241, 241, 238]],\n\n        [[137, 132, 126],\n         [130, 127, 120],\n         [125, 121, 115],\n         ...,\n         [181, 180, 178],\n         [202, 201, 198],\n         [212, 211, 207]],\n\n        [[122, 119, 114],\n         [118, 116, 110],\n         [120, 116, 111],\n         ...,\n         [179, 177, 173],\n         [164, 164, 162],\n         [163, 163, 161]]]], dtype=uint8)"
     },
     "execution_count": 21,
     "metadata": {},
     "output_type": "execute_result"
    }
   ],
   "source": [
    "x_train"
   ],
   "metadata": {
    "collapsed": false,
    "pycharm": {
     "name": "#%%\n"
    }
   }
  },
  {
   "cell_type": "code",
   "execution_count": 22,
   "outputs": [
    {
     "data": {
      "text/plain": "array([[[ 59,  62,  63],\n        [ 43,  46,  45],\n        [ 50,  48,  43],\n        ...,\n        [158, 132, 108],\n        [152, 125, 102],\n        [148, 124, 103]],\n\n       [[ 16,  20,  20],\n        [  0,   0,   0],\n        [ 18,   8,   0],\n        ...,\n        [123,  88,  55],\n        [119,  83,  50],\n        [122,  87,  57]],\n\n       [[ 25,  24,  21],\n        [ 16,   7,   0],\n        [ 49,  27,   8],\n        ...,\n        [118,  84,  50],\n        [120,  84,  50],\n        [109,  73,  42]],\n\n       ...,\n\n       [[208, 170,  96],\n        [201, 153,  34],\n        [198, 161,  26],\n        ...,\n        [160, 133,  70],\n        [ 56,  31,   7],\n        [ 53,  34,  20]],\n\n       [[180, 139,  96],\n        [173, 123,  42],\n        [186, 144,  30],\n        ...,\n        [184, 148,  94],\n        [ 97,  62,  34],\n        [ 83,  53,  34]],\n\n       [[177, 144, 116],\n        [168, 129,  94],\n        [179, 142,  87],\n        ...,\n        [216, 184, 140],\n        [151, 118,  84],\n        [123,  92,  72]]], dtype=uint8)"
     },
     "execution_count": 22,
     "metadata": {},
     "output_type": "execute_result"
    }
   ],
   "source": [
    "first_image = x_train[0]\n",
    "first_image"
   ],
   "metadata": {
    "collapsed": false,
    "pycharm": {
     "name": "#%%\n"
    }
   }
  },
  {
   "cell_type": "code",
   "execution_count": 23,
   "outputs": [
    {
     "ename": "KeyboardInterrupt",
     "evalue": "",
     "output_type": "error",
     "traceback": [
      "\u001B[0;31m---------------------------------------------------------------------------\u001B[0m",
      "\u001B[0;31mKeyboardInterrupt\u001B[0m                         Traceback (most recent call last)",
      "Input \u001B[0;32mIn [23]\u001B[0m, in \u001B[0;36m<cell line: 1>\u001B[0;34m()\u001B[0m\n\u001B[0;32m----> 1\u001B[0m \u001B[43my_train\u001B[49m\n",
      "Input \u001B[0;32mIn [23]\u001B[0m, in \u001B[0;36m<cell line: 1>\u001B[0;34m()\u001B[0m\n\u001B[0;32m----> 1\u001B[0m \u001B[43my_train\u001B[49m\n",
      "File \u001B[0;32m_pydevd_bundle/pydevd_cython_darwin_39_64.pyx:1179\u001B[0m, in \u001B[0;36m_pydevd_bundle.pydevd_cython_darwin_39_64.SafeCallWrapper.__call__\u001B[0;34m()\u001B[0m\n",
      "File \u001B[0;32m_pydevd_bundle/pydevd_cython_darwin_39_64.pyx:620\u001B[0m, in \u001B[0;36m_pydevd_bundle.pydevd_cython_darwin_39_64.PyDBFrame.trace_dispatch\u001B[0;34m()\u001B[0m\n",
      "File \u001B[0;32m_pydevd_bundle/pydevd_cython_darwin_39_64.pyx:929\u001B[0m, in \u001B[0;36m_pydevd_bundle.pydevd_cython_darwin_39_64.PyDBFrame.trace_dispatch\u001B[0;34m()\u001B[0m\n",
      "File \u001B[0;32m_pydevd_bundle/pydevd_cython_darwin_39_64.pyx:920\u001B[0m, in \u001B[0;36m_pydevd_bundle.pydevd_cython_darwin_39_64.PyDBFrame.trace_dispatch\u001B[0;34m()\u001B[0m\n",
      "File \u001B[0;32m_pydevd_bundle/pydevd_cython_darwin_39_64.pyx:317\u001B[0m, in \u001B[0;36m_pydevd_bundle.pydevd_cython_darwin_39_64.PyDBFrame.do_wait_suspend\u001B[0;34m()\u001B[0m\n",
      "File \u001B[0;32m/Applications/PyCharm.app/Contents/plugins/python/helpers/pydev/pydevd.py:1147\u001B[0m, in \u001B[0;36mPyDB.do_wait_suspend\u001B[0;34m(self, thread, frame, event, arg, send_suspend_message, is_unhandled_exception)\u001B[0m\n\u001B[1;32m   1144\u001B[0m         from_this_thread\u001B[38;5;241m.\u001B[39mappend(frame_id)\n\u001B[1;32m   1146\u001B[0m \u001B[38;5;28;01mwith\u001B[39;00m \u001B[38;5;28mself\u001B[39m\u001B[38;5;241m.\u001B[39m_threads_suspended_single_notification\u001B[38;5;241m.\u001B[39mnotify_thread_suspended(thread_id, stop_reason):\n\u001B[0;32m-> 1147\u001B[0m     \u001B[38;5;28;43mself\u001B[39;49m\u001B[38;5;241;43m.\u001B[39;49m\u001B[43m_do_wait_suspend\u001B[49m\u001B[43m(\u001B[49m\u001B[43mthread\u001B[49m\u001B[43m,\u001B[49m\u001B[43m \u001B[49m\u001B[43mframe\u001B[49m\u001B[43m,\u001B[49m\u001B[43m \u001B[49m\u001B[43mevent\u001B[49m\u001B[43m,\u001B[49m\u001B[43m \u001B[49m\u001B[43marg\u001B[49m\u001B[43m,\u001B[49m\u001B[43m \u001B[49m\u001B[43msuspend_type\u001B[49m\u001B[43m,\u001B[49m\u001B[43m \u001B[49m\u001B[43mfrom_this_thread\u001B[49m\u001B[43m)\u001B[49m\n",
      "File \u001B[0;32m/Applications/PyCharm.app/Contents/plugins/python/helpers/pydev/pydevd.py:1162\u001B[0m, in \u001B[0;36mPyDB._do_wait_suspend\u001B[0;34m(self, thread, frame, event, arg, suspend_type, from_this_thread)\u001B[0m\n\u001B[1;32m   1159\u001B[0m             \u001B[38;5;28mself\u001B[39m\u001B[38;5;241m.\u001B[39m_call_mpl_hook()\n\u001B[1;32m   1161\u001B[0m         \u001B[38;5;28mself\u001B[39m\u001B[38;5;241m.\u001B[39mprocess_internal_commands()\n\u001B[0;32m-> 1162\u001B[0m         \u001B[43mtime\u001B[49m\u001B[38;5;241;43m.\u001B[39;49m\u001B[43msleep\u001B[49m\u001B[43m(\u001B[49m\u001B[38;5;241;43m0.01\u001B[39;49m\u001B[43m)\u001B[49m\n\u001B[1;32m   1164\u001B[0m \u001B[38;5;28mself\u001B[39m\u001B[38;5;241m.\u001B[39mcancel_async_evaluation(get_current_thread_id(thread), \u001B[38;5;28mstr\u001B[39m(\u001B[38;5;28mid\u001B[39m(frame)))\n\u001B[1;32m   1166\u001B[0m \u001B[38;5;66;03m# process any stepping instructions\u001B[39;00m\n",
      "\u001B[0;31mKeyboardInterrupt\u001B[0m: "
     ]
    }
   ],
   "source": [
    "y_train"
   ],
   "metadata": {
    "collapsed": false,
    "pycharm": {
     "name": "#%%\n"
    }
   }
  },
  {
   "cell_type": "code",
   "execution_count": 24,
   "outputs": [
    {
     "data": {
      "text/plain": "<matplotlib.image.AxesImage at 0x1318eecd0>"
     },
     "execution_count": 24,
     "metadata": {},
     "output_type": "execute_result"
    },
    {
     "data": {
      "text/plain": "<Figure size 432x288 with 1 Axes>",
      "image/png": "[encoded data removed]"
     },
     "metadata": {
      "needs_background": "light"
     },
     "output_type": "display_data"
    }
   ],
   "source": [
    "plt.imshow(first_image)"
   ],
   "metadata": {
    "collapsed": false,
    "pycharm": {
     "name": "#%%\n"
    }
   }
  },
  {
   "cell_type": "code",
   "execution_count": 29,
   "outputs": [
    {
     "data": {
      "text/plain": "array([6], dtype=uint8)"
     },
     "execution_count": 29,
     "metadata": {},
     "output_type": "execute_result"
    }
   ],
   "source": [
    "y_train[0]"
   ],
   "metadata": {
    "collapsed": false,
    "pycharm": {
     "name": "#%%\n"
    }
   }
  },
  {
   "cell_type": "code",
   "execution_count": 30,
   "outputs": [
    {
     "name": "stdout",
     "output_type": "stream",
     "text": [
      "Downloading data from https://storage.googleapis.com/tensorflow/tf-keras-datasets/boston_housing.npz\n",
      "57344/57026 [==============================] - 0s 0us/step\b\b\b\b\b\b\b\b\b\b\b\b\b\b\b\b\b\b\b\b\b\b\b\b\b\b\b\b\b\b\b\b\b\b\b\b\b\b\b\b\b\b\b\b\b\b\b\b\b\b\n",
      "65536/57026 [==================================] - 0s 0us/step\n"
     ]
    }
   ],
   "source": [
    "(x_train, y_train), (x_test, y_test) = keras.datasets.boston_housing.load_data(\n",
    "    path=\"boston_housing.npz\", test_split=0.2, seed=113\n",
    ")"
   ],
   "metadata": {
    "collapsed": false,
    "pycharm": {
     "name": "#%%\n"
    }
   }
  },
  {
   "cell_type": "code",
   "execution_count": 33,
   "outputs": [
    {
     "name": "stdout",
     "output_type": "stream",
     "text": [
      "Downloading data from https://storage.googleapis.com/tensorflow/tf-keras-datasets/imdb_word_index.json\n",
      "1646592/1641221 [==============================] - 0s 0us/step\b\b\b\b\b\b\b\b\b\b\b\b\b\b\b\b\b\b\b\b\b\b\b\b\b\b\b\b\b\b\b\b\b\b\b\b\b\b\b\b\b\b\b\b\b\b\b\b\b\b\b\b\b\b\b\b\b\b\b\b\b\b\b\b\b\b\b\b\b\b\b\b\b\b\b\b\b\b\b\b\b\b\b\b\b\b\b\b\b\b\b\b\b\b\b\b\b\b\b\b\b\b\b\b\b\b\b\b\b\b\b\b\n",
      "1654784/1641221 [==============================] - 0s 0us/step\n"
     ]
    }
   ],
   "source": [
    "(x_train, y_train), (x_test, y_test) = keras.datasets.imdb.load_data(\n",
    "    path=\"imdb.npz\",\n",
    "    num_words=None,\n",
    "    skip_top=0,\n",
    "    maxlen=None,\n",
    "    seed=113,\n",
    "    start_char=1,\n",
    "    oov_char=2,\n",
    "    index_from=3\n",
    ")\n",
    "\n",
    "word_index = keras.datasets.imdb.get_word_index()"
   ],
   "metadata": {
    "collapsed": false,
    "pycharm": {
     "name": "#%%\n"
    }
   }
  },
  {
   "cell_type": "code",
   "execution_count": 34,
   "outputs": [],
   "source": [
    "inverted_word_index = dict((i, word) for (word, i) in word_index.items())"
   ],
   "metadata": {
    "collapsed": false,
    "pycharm": {
     "name": "#%%\n"
    }
   }
  },
  {
   "cell_type": "code",
   "execution_count": 45,
   "outputs": [
    {
     "data": {
      "text/plain": "<matplotlib.image.AxesImage at 0x1ca7a1f70>"
     },
     "execution_count": 45,
     "metadata": {},
     "output_type": "execute_result"
    },
    {
     "data": {
      "text/plain": "<Figure size 432x288 with 1 Axes>",
      "image/png": "[encoded data removed]"
     },
     "metadata": {
      "needs_background": "light"
     },
     "output_type": "display_data"
    }
   ],
   "source": [
    "img = keras.utils.load_img(\n",
    "        \"/Users/rajanp/Downloads/img_11.jpeg\", target_size=(32, 32)\n",
    "    )\n",
    "img_array = keras.utils.img_to_array(img)\n",
    "\n",
    "img_array\n",
    "\n",
    "plt.imshow(img)"
   ],
   "metadata": {
    "collapsed": false,
    "pycharm": {
     "name": "#%%\n"
    }
   }
  },
  {
   "cell_type": "code",
   "execution_count": 50,
   "outputs": [
    {
     "data": {
      "text/plain": "<matplotlib.image.AxesImage at 0x1c85c5d00>"
     },
     "execution_count": 50,
     "metadata": {},
     "output_type": "execute_result"
    },
    {
     "data": {
      "text/plain": "<Figure size 432x288 with 1 Axes>",
      "image/png": "[encoded data removed]"
     },
     "metadata": {
      "needs_background": "light"
     },
     "output_type": "display_data"
    }
   ],
   "source": [
    "r, g, b = img.split()\n",
    "plt.imshow(r)"
   ],
   "metadata": {
    "collapsed": false,
    "pycharm": {
     "name": "#%%\n"
    }
   }
  },
  {
   "cell_type": "code",
   "execution_count": 51,
   "outputs": [
    {
     "data": {
      "text/plain": "<matplotlib.image.AxesImage at 0x1cbea4370>"
     },
     "execution_count": 51,
     "metadata": {},
     "output_type": "execute_result"
    },
    {
     "data": {
      "text/plain": "<Figure size 432x288 with 1 Axes>",
      "image/png": "[encoded data removed]"
     },
     "metadata": {
      "needs_background": "light"
     },
     "output_type": "display_data"
    }
   ],
   "source": [
    "plt.imshow(g)"
   ],
   "metadata": {
    "collapsed": false,
    "pycharm": {
     "name": "#%%\n"
    }
   }
  },
  {
   "cell_type": "code",
   "execution_count": 53,
   "outputs": [
    {
     "data": {
      "text/plain": "<PIL.Image.Image image mode=L size=32x32 at 0x1C7B59760>",
      "image/png": "[encoded data removed]"
     },
     "execution_count": 53,
     "metadata": {},
     "output_type": "execute_result"
    },
    {
     "data": {
      "text/plain": "<Figure size 432x288 with 1 Axes>",
      "image/png": "[encoded data removed]"
     },
     "metadata": {
      "needs_background": "light"
     },
     "output_type": "display_data"
    }
   ],
   "source": [
    "plt.imshow(b)\n",
    "\n",
    "r\n",
    "#img_array = expand_dims(img_array, 0)  #"
   ],
   "metadata": {
    "collapsed": false,
    "pycharm": {
     "name": "#%%\n"
    }
   }
  },
  {
   "cell_type": "code",
   "execution_count": 55,
   "outputs": [
    {
     "data": {
      "text/plain": "array([[[0.],\n        [0.],\n        [0.],\n        ...,\n        [0.],\n        [0.],\n        [0.]],\n\n       [[0.],\n        [0.],\n        [0.],\n        ...,\n        [0.],\n        [0.],\n        [0.]],\n\n       [[0.],\n        [0.],\n        [0.],\n        ...,\n        [0.],\n        [0.],\n        [0.]],\n\n       ...,\n\n       [[0.],\n        [0.],\n        [0.],\n        ...,\n        [0.],\n        [0.],\n        [0.]],\n\n       [[0.],\n        [0.],\n        [0.],\n        ...,\n        [0.],\n        [0.],\n        [0.]],\n\n       [[0.],\n        [0.],\n        [0.],\n        ...,\n        [0.],\n        [0.],\n        [0.]]], dtype=float32)"
     },
     "execution_count": 55,
     "metadata": {},
     "output_type": "execute_result"
    }
   ],
   "source": [
    "img_array = keras.utils.img_to_array(r)\n",
    "img_array"
   ],
   "metadata": {
    "collapsed": false,
    "pycharm": {
     "name": "#%%\n"
    }
   }
  }
 ],
 "metadata": {
  "kernelspec": {
   "display_name": "Python 3",
   "language": "python",
   "name": "python3"
  },
  "language_info": {
   "codemirror_mode": {
    "name": "ipython",
    "version": 2
   },
   "file_extension": ".py",
   "mimetype": "text/x-python",
   "name": "python",
   "nbconvert_exporter": "python",
   "pygments_lexer": "ipython2",
   "version": "2.7.6"
  }
 },
 "nbformat": 4,
 "nbformat_minor": 0
}